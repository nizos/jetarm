{
 "cells": [
  {
   "cell_type": "markdown",
   "id": "opening-elder",
   "metadata": {},
   "source": [
    "# JETARM - Build TensorRT model\n",
    "\n",
    "Use this notebook to build the TensortRT model."
   ]
  },
  {
   "cell_type": "markdown",
   "id": "derived-delhi",
   "metadata": {},
   "source": [
    "Initialize the PyTorch model."
   ]
  },
  {
   "cell_type": "code",
   "execution_count": 1,
   "id": "charitable-ordinance",
   "metadata": {},
   "outputs": [],
   "source": [
    "import torch\n",
    "import torchvision\n",
    "\n",
    "model = torchvision.models.resnet18(pretrained=False)\n",
    "model.fc = torch.nn.Linear(512, 4)\n",
    "model = model.cuda().eval()"
   ]
  },
  {
   "cell_type": "markdown",
   "id": "thorough-timer",
   "metadata": {},
   "source": [
    "Load the trained weights from the ``model_resnet18.pth`` file."
   ]
  },
  {
   "cell_type": "code",
   "execution_count": 2,
   "id": "infinite-imagination",
   "metadata": {},
   "outputs": [
    {
     "data": {
      "text/plain": [
       "<All keys matched successfully>"
      ]
     },
     "execution_count": 2,
     "metadata": {},
     "output_type": "execute_result"
    }
   ],
   "source": [
    "model.load_state_dict(torch.load('model_resnet18.pth'))"
   ]
  },
  {
   "cell_type": "markdown",
   "id": "invalid-ensemble",
   "metadata": {},
   "source": [
    "Transfer the model weights to the GPU device."
   ]
  },
  {
   "cell_type": "code",
   "execution_count": 3,
   "id": "prospective-element",
   "metadata": {},
   "outputs": [],
   "source": [
    "device = torch.device('cuda')"
   ]
  },
  {
   "cell_type": "markdown",
   "id": "consecutive-marker",
   "metadata": {},
   "source": [
    "Convert and optimize the model using torch2trt for faster inference with TensorRT. This optimization process can take a couple minutes to complete."
   ]
  },
  {
   "cell_type": "code",
   "execution_count": 4,
   "id": "neutral-statistics",
   "metadata": {},
   "outputs": [],
   "source": [
    "from torch2trt import torch2trt\n",
    "\n",
    "data = torch.zeros((1, 3, 224, 224)).cuda()\n",
    "\n",
    "model_trt = torch2trt(model, [data], fp16_mode=True)"
   ]
  },
  {
   "cell_type": "markdown",
   "id": "continuing-vietnam",
   "metadata": {},
   "source": [
    "Save the optimized model."
   ]
  },
  {
   "cell_type": "code",
   "execution_count": 5,
   "id": "together-parent",
   "metadata": {},
   "outputs": [],
   "source": [
    "torch.save(model_trt.state_dict(), 'model_trt.pth')"
   ]
  }
 ],
 "metadata": {
  "kernelspec": {
   "display_name": "Python 3",
   "language": "python",
   "name": "python3"
  },
  "language_info": {
   "codemirror_mode": {
    "name": "ipython",
    "version": 3
   },
   "file_extension": ".py",
   "mimetype": "text/x-python",
   "name": "python",
   "nbconvert_exporter": "python",
   "pygments_lexer": "ipython3",
   "version": "3.6.9"
  }
 },
 "nbformat": 4,
 "nbformat_minor": 5
}
